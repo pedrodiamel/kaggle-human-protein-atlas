{
 "cells": [
  {
   "cell_type": "code",
   "execution_count": null,
   "metadata": {},
   "outputs": [],
   "source": []
  },
  {
   "cell_type": "code",
   "execution_count": 1,
   "metadata": {},
   "outputs": [],
   "source": [
    "import os\n",
    "import sys\n",
    "import numpy as np\n",
    "import pandas as pd\n",
    "import random\n",
    "\n",
    "from argparse import ArgumentParser\n",
    "import datetime\n",
    "\n",
    "import torch\n",
    "from torch.utils.data import Dataset, DataLoader\n",
    "from torchvision import transforms, utils\n",
    "import torch.backends.cudnn as cudnn\n",
    "\n",
    "from pytvision.transforms import transforms as mtrans\n",
    "from pytvision import visualization as view\n",
    "\n",
    "sys.path.append('../')\n",
    "from torchlib.datasets.datasets import ATLASDataset \n",
    "from torchlib.neuralnet import NeuralNetClassifier\n",
    "from misc import get_transforms_det\n",
    "\n",
    "from sklearn import metrics"
   ]
  },
  {
   "cell_type": "code",
   "execution_count": null,
   "metadata": {},
   "outputs": [],
   "source": []
  },
  {
   "cell_type": "code",
   "execution_count": 2,
   "metadata": {},
   "outputs": [
    {
     "name": "stdout",
     "output_type": "stream",
     "text": [
      "/home/fernandez/.datasets\n",
      "../out/netruns\n"
     ]
    }
   ],
   "source": [
    "pathname = os.path.expanduser( '~/.datasets' )\n",
    "projectnet='../out/netruns'\n",
    "no_cuda=False\n",
    "seed=1\n",
    "gpu=0\n",
    "batch_size=60\n",
    "workers=10\n",
    "num_input_channels=3\n",
    "\n",
    "print(pathname)\n",
    "print(projectnet)"
   ]
  },
  {
   "cell_type": "code",
   "execution_count": 3,
   "metadata": {},
   "outputs": [
    {
     "name": "stdout",
     "output_type": "stream",
     "text": [
      "atlas_baseline_inception_v4_mix_adam_atlas_004\n",
      "atlas_baseline_preactresnet18_bcewl_adam_atlas_001\n",
      "atlas_baseline_preactresnet18_mix_sgd_atlas_002\n",
      "atlas_baseline_preactresnet18_mix_sgd_atlas_003\n",
      "results\n"
     ]
    }
   ],
   "source": [
    "!ls ../out/netruns/"
   ]
  },
  {
   "cell_type": "code",
   "execution_count": 5,
   "metadata": {},
   "outputs": [
    {
     "name": "stdout",
     "output_type": "stream",
     "text": [
      "../out/netruns/atlas_baseline_inception_v4_mix_adam_atlas_004\n",
      "../out/netruns/atlas_baseline_inception_v4_mix_adam_atlas_004/models/model_best.pth.tar\n"
     ]
    }
   ],
   "source": [
    "name = 'atlas_baseline_inception_v4_mix_adam_atlas_004'\n",
    "project = os.path.join(projectnet, name)\n",
    "model = 'model_best.pth.tar' #'chk000025.pth.tar', model_best\n",
    "pathmodels = os.path.join(project,'models',model)\n",
    "\n",
    "print(project)\n",
    "print(pathmodels)"
   ]
  },
  {
   "cell_type": "markdown",
   "metadata": {},
   "source": [
    "## Load model"
   ]
  },
  {
   "cell_type": "code",
   "execution_count": 6,
   "metadata": {},
   "outputs": [
    {
     "name": "stderr",
     "output_type": "stream",
     "text": [
      "Without the incoming socket you cannot receive events from the server or register event handlers to your Visdom client.\n"
     ]
    },
    {
     "name": "stdout",
     "output_type": "stream",
     "text": [
      "=> loading checkpoint '../out/netruns/atlas_baseline_inception_v4_mix_adam_atlas_004/models/model_best.pth.tar'\n",
      "=> loaded checkpoint for inception_v4 arch!\n"
     ]
    }
   ],
   "source": [
    "# neuralnet\n",
    "network = NeuralNetClassifier(\n",
    "    patchproject=project,\n",
    "    nameproject=name,\n",
    "    no_cuda=no_cuda,\n",
    "    seed=seed,\n",
    "    gpu=gpu\n",
    "    )\n",
    "\n",
    "cudnn.benchmark = True\n",
    "\n",
    "# load model\n",
    "if network.load( pathmodels ) is not True:\n",
    "    assert(False)"
   ]
  },
  {
   "cell_type": "code",
   "execution_count": null,
   "metadata": {},
   "outputs": [],
   "source": []
  },
  {
   "cell_type": "code",
   "execution_count": 7,
   "metadata": {},
   "outputs": [
    {
     "name": "stdout",
     "output_type": "stream",
     "text": [
      "Data loader \n",
      "2\n",
      "100\n"
     ]
    }
   ],
   "source": [
    "\n",
    "pathdata='~/.kaggle/competitions/human-protein-atlas-image-classification'\n",
    "name_dataset='atlas'\n",
    "subset='train'\n",
    "\n",
    "data = ATLASDataset(        \n",
    "    path=pathdata, \n",
    "    train=True,\n",
    "    folders_images='train', \n",
    "    metadata='train.csv',\n",
    "    count=100,\n",
    "    num_channels=3,\n",
    "    transform=get_transforms_det( network.size_input ), #get_transforms_aug\n",
    "    )\n",
    "\n",
    "dataloader = DataLoader(data, batch_size=batch_size, shuffle=False, num_workers=workers )\n",
    "\n",
    "print('Data loader ')\n",
    "print(len(dataloader))\n",
    "print(len(data))"
   ]
  },
  {
   "cell_type": "code",
   "execution_count": 8,
   "metadata": {},
   "outputs": [
    {
     "name": "stderr",
     "output_type": "stream",
     "text": [
      "100%|██████████| 2/2 [00:06<00:00,  3.02s/it]"
     ]
    },
    {
     "name": "stdout",
     "output_type": "stream",
     "text": [
      "dir: ../out/netruns/atlas_baseline_inception_v4_mix_adam_atlas_004\n",
      "DONE!!!\n"
     ]
    },
    {
     "name": "stderr",
     "output_type": "stream",
     "text": [
      "\n"
     ]
    }
   ],
   "source": [
    "Id, Yhat, Y = network.predict( dataloader )\n",
    "df = pd.DataFrame( np.concatenate((Id[:,np.newaxis], Yhat, Y), axis=1) )\n",
    "df.to_csv( os.path.join(project , '{}_{}_{}_dp.csv'.format(subset,name,name_dataset)), index=False, encoding='utf-8')        \n",
    "print('dir: {}'.format(project))\n",
    "print('DONE!!!')"
   ]
  },
  {
   "cell_type": "code",
   "execution_count": 9,
   "metadata": {},
   "outputs": [
    {
     "data": {
      "text/html": [
       "<div>\n",
       "<style scoped>\n",
       "    .dataframe tbody tr th:only-of-type {\n",
       "        vertical-align: middle;\n",
       "    }\n",
       "\n",
       "    .dataframe tbody tr th {\n",
       "        vertical-align: top;\n",
       "    }\n",
       "\n",
       "    .dataframe thead th {\n",
       "        text-align: right;\n",
       "    }\n",
       "</style>\n",
       "<table border=\"1\" class=\"dataframe\">\n",
       "  <thead>\n",
       "    <tr style=\"text-align: right;\">\n",
       "      <th></th>\n",
       "      <th>0</th>\n",
       "      <th>1</th>\n",
       "      <th>2</th>\n",
       "      <th>3</th>\n",
       "      <th>4</th>\n",
       "      <th>5</th>\n",
       "      <th>6</th>\n",
       "      <th>7</th>\n",
       "      <th>8</th>\n",
       "      <th>9</th>\n",
       "      <th>...</th>\n",
       "      <th>47</th>\n",
       "      <th>48</th>\n",
       "      <th>49</th>\n",
       "      <th>50</th>\n",
       "      <th>51</th>\n",
       "      <th>52</th>\n",
       "      <th>53</th>\n",
       "      <th>54</th>\n",
       "      <th>55</th>\n",
       "      <th>56</th>\n",
       "    </tr>\n",
       "  </thead>\n",
       "  <tbody>\n",
       "    <tr>\n",
       "      <th>0</th>\n",
       "      <td>00070df0-bbc3-11e8-b2bc-ac1f6b6435d0</td>\n",
       "      <td>0.996777</td>\n",
       "      <td>0.000137</td>\n",
       "      <td>0.004408</td>\n",
       "      <td>0.000041</td>\n",
       "      <td>0.000043</td>\n",
       "      <td>0.033597</td>\n",
       "      <td>2.368870e-05</td>\n",
       "      <td>0.000072</td>\n",
       "      <td>6.277839e-06</td>\n",
       "      <td>...</td>\n",
       "      <td>0.0</td>\n",
       "      <td>0.0</td>\n",
       "      <td>0.0</td>\n",
       "      <td>0.0</td>\n",
       "      <td>0.0</td>\n",
       "      <td>0.0</td>\n",
       "      <td>0.0</td>\n",
       "      <td>0.0</td>\n",
       "      <td>0.0</td>\n",
       "      <td>0.0</td>\n",
       "    </tr>\n",
       "    <tr>\n",
       "      <th>1</th>\n",
       "      <td>000a6c98-bb9b-11e8-b2b9-ac1f6b6435d0</td>\n",
       "      <td>0.999955</td>\n",
       "      <td>0.999994</td>\n",
       "      <td>0.999656</td>\n",
       "      <td>0.048086</td>\n",
       "      <td>0.000008</td>\n",
       "      <td>0.000238</td>\n",
       "      <td>2.153798e-07</td>\n",
       "      <td>0.999743</td>\n",
       "      <td>3.785484e-07</td>\n",
       "      <td>...</td>\n",
       "      <td>0.0</td>\n",
       "      <td>0.0</td>\n",
       "      <td>0.0</td>\n",
       "      <td>0.0</td>\n",
       "      <td>0.0</td>\n",
       "      <td>0.0</td>\n",
       "      <td>0.0</td>\n",
       "      <td>0.0</td>\n",
       "      <td>0.0</td>\n",
       "      <td>0.0</td>\n",
       "    </tr>\n",
       "    <tr>\n",
       "      <th>2</th>\n",
       "      <td>000a9596-bbc4-11e8-b2bc-ac1f6b6435d0</td>\n",
       "      <td>0.000514</td>\n",
       "      <td>0.000060</td>\n",
       "      <td>0.000119</td>\n",
       "      <td>0.000079</td>\n",
       "      <td>0.001248</td>\n",
       "      <td>0.998795</td>\n",
       "      <td>3.205983e-04</td>\n",
       "      <td>0.001201</td>\n",
       "      <td>7.573904e-05</td>\n",
       "      <td>...</td>\n",
       "      <td>0.0</td>\n",
       "      <td>0.0</td>\n",
       "      <td>0.0</td>\n",
       "      <td>0.0</td>\n",
       "      <td>0.0</td>\n",
       "      <td>0.0</td>\n",
       "      <td>0.0</td>\n",
       "      <td>0.0</td>\n",
       "      <td>0.0</td>\n",
       "      <td>0.0</td>\n",
       "    </tr>\n",
       "    <tr>\n",
       "      <th>3</th>\n",
       "      <td>000c99ba-bba4-11e8-b2b9-ac1f6b6435d0</td>\n",
       "      <td>0.004212</td>\n",
       "      <td>0.999775</td>\n",
       "      <td>0.002247</td>\n",
       "      <td>0.000884</td>\n",
       "      <td>0.000055</td>\n",
       "      <td>0.000454</td>\n",
       "      <td>1.851627e-04</td>\n",
       "      <td>0.000822</td>\n",
       "      <td>4.154341e-06</td>\n",
       "      <td>...</td>\n",
       "      <td>0.0</td>\n",
       "      <td>0.0</td>\n",
       "      <td>0.0</td>\n",
       "      <td>0.0</td>\n",
       "      <td>0.0</td>\n",
       "      <td>0.0</td>\n",
       "      <td>0.0</td>\n",
       "      <td>0.0</td>\n",
       "      <td>0.0</td>\n",
       "      <td>0.0</td>\n",
       "    </tr>\n",
       "    <tr>\n",
       "      <th>4</th>\n",
       "      <td>001838f8-bbca-11e8-b2bc-ac1f6b6435d0</td>\n",
       "      <td>0.014452</td>\n",
       "      <td>0.000202</td>\n",
       "      <td>0.000373</td>\n",
       "      <td>0.000037</td>\n",
       "      <td>0.000140</td>\n",
       "      <td>0.000448</td>\n",
       "      <td>4.032355e-04</td>\n",
       "      <td>0.000012</td>\n",
       "      <td>9.856312e-06</td>\n",
       "      <td>...</td>\n",
       "      <td>1.0</td>\n",
       "      <td>0.0</td>\n",
       "      <td>0.0</td>\n",
       "      <td>0.0</td>\n",
       "      <td>0.0</td>\n",
       "      <td>0.0</td>\n",
       "      <td>0.0</td>\n",
       "      <td>0.0</td>\n",
       "      <td>0.0</td>\n",
       "      <td>0.0</td>\n",
       "    </tr>\n",
       "  </tbody>\n",
       "</table>\n",
       "<p>5 rows × 57 columns</p>\n",
       "</div>"
      ],
      "text/plain": [
       "                                      0         1         2         3  \\\n",
       "0  00070df0-bbc3-11e8-b2bc-ac1f6b6435d0  0.996777  0.000137  0.004408   \n",
       "1  000a6c98-bb9b-11e8-b2b9-ac1f6b6435d0  0.999955  0.999994  0.999656   \n",
       "2  000a9596-bbc4-11e8-b2bc-ac1f6b6435d0  0.000514  0.000060  0.000119   \n",
       "3  000c99ba-bba4-11e8-b2b9-ac1f6b6435d0  0.004212  0.999775  0.002247   \n",
       "4  001838f8-bbca-11e8-b2bc-ac1f6b6435d0  0.014452  0.000202  0.000373   \n",
       "\n",
       "          4         5         6             7         8             9 ...   \\\n",
       "0  0.000041  0.000043  0.033597  2.368870e-05  0.000072  6.277839e-06 ...    \n",
       "1  0.048086  0.000008  0.000238  2.153798e-07  0.999743  3.785484e-07 ...    \n",
       "2  0.000079  0.001248  0.998795  3.205983e-04  0.001201  7.573904e-05 ...    \n",
       "3  0.000884  0.000055  0.000454  1.851627e-04  0.000822  4.154341e-06 ...    \n",
       "4  0.000037  0.000140  0.000448  4.032355e-04  0.000012  9.856312e-06 ...    \n",
       "\n",
       "    47   48   49   50   51   52   53   54   55   56  \n",
       "0  0.0  0.0  0.0  0.0  0.0  0.0  0.0  0.0  0.0  0.0  \n",
       "1  0.0  0.0  0.0  0.0  0.0  0.0  0.0  0.0  0.0  0.0  \n",
       "2  0.0  0.0  0.0  0.0  0.0  0.0  0.0  0.0  0.0  0.0  \n",
       "3  0.0  0.0  0.0  0.0  0.0  0.0  0.0  0.0  0.0  0.0  \n",
       "4  1.0  0.0  0.0  0.0  0.0  0.0  0.0  0.0  0.0  0.0  \n",
       "\n",
       "[5 rows x 57 columns]"
      ]
     },
     "execution_count": 9,
     "metadata": {},
     "output_type": "execute_result"
    }
   ],
   "source": [
    "df = pd.read_csv( os.path.join(project , '{}_{}_{}_dp.csv'.format(subset, name, name_dataset))  )\n",
    "df.head()"
   ]
  },
  {
   "cell_type": "code",
   "execution_count": 11,
   "metadata": {},
   "outputs": [
    {
     "data": {
      "text/plain": [
       "array([38,  6, 14,  6,  1,  6,  3,  8,  0,  0,  0,  4,  3,  2,  4,  0,  1,\n",
       "        1,  4,  1,  1, 12,  2, 12,  1, 21,  0,  0])"
      ]
     },
     "execution_count": 11,
     "metadata": {},
     "output_type": "execute_result"
    }
   ],
   "source": [
    "(Yhat>0.4).sum(axis=0)"
   ]
  },
  {
   "cell_type": "code",
   "execution_count": 12,
   "metadata": {},
   "outputs": [
    {
     "data": {
      "text/plain": [
       "array([38.,  6., 14.,  6.,  2.,  6.,  4.,  9.,  0.,  0.,  0.,  4.,  4.,\n",
       "        2.,  4.,  0.,  3.,  1.,  4.,  1.,  1., 13.,  2., 11.,  1., 24.,\n",
       "        0.,  0.])"
      ]
     },
     "execution_count": 12,
     "metadata": {},
     "output_type": "execute_result"
    }
   ],
   "source": [
    "Y.sum(axis=0)"
   ]
  },
  {
   "cell_type": "code",
   "execution_count": 31,
   "metadata": {},
   "outputs": [
    {
     "data": {
      "text/plain": [
       "array([1.0, 0.0, 0.0, ..., 0.0, 0.0, 0.0], dtype=object)"
      ]
     },
     "execution_count": 31,
     "metadata": {},
     "output_type": "execute_result"
    }
   ],
   "source": [
    "Y"
   ]
  },
  {
   "cell_type": "code",
   "execution_count": 51,
   "metadata": {},
   "outputs": [
    {
     "name": "stdout",
     "output_type": "stream",
     "text": [
      "Accuracy : 0.994286\n",
      "Precision : 0.990604\n",
      "Recall : 0.955871\n",
      "F1 score : 0.972928\n",
      "\n"
     ]
    }
   ],
   "source": [
    "\n",
    "th=0.8\n",
    "result = df.as_matrix()\n",
    "iDs = result[:,0]\n",
    "yhat = (result[:,1:28+1] > th ).reshape(-1).astype( np.int )\n",
    "y =   result[:,28+1:].reshape(-1).astype( np.int )\n",
    "\n",
    "acc = metrics.accuracy_score( y, yhat)\n",
    "precision = metrics.precision_score(y, yhat, average='macro')\n",
    "recall = metrics.recall_score(y, yhat, average='macro')\n",
    "f1_score = 2*precision*recall/(precision+recall)\n",
    "\n",
    "print('Accuracy : %f' % acc)\n",
    "print('Precision : %f' % precision)\n",
    "print('Recall : %f' % recall)\n",
    "print('F1 score : %f' % f1_score)\n",
    "print(\"\")"
   ]
  },
  {
   "cell_type": "code",
   "execution_count": 56,
   "metadata": {},
   "outputs": [
    {
     "name": "stdout",
     "output_type": "stream",
     "text": [
      "0.1 0.9783956987463799\n",
      "0.2 0.9766730171366362\n",
      "0.3 0.978204339277714\n",
      "0.4 0.9746948989560736\n",
      "0.5 0.9746948989560736\n",
      "0.6 0.9729648003727778\n",
      "0.7 0.9746564738559198\n",
      "0.8 0.9729275889566997\n",
      "0.9 0.971193998551773\n"
     ]
    }
   ],
   "source": [
    "\n",
    "result = df.as_matrix()\n",
    "iDs = result[:,0]\n",
    "ths=[ 0.1, 0.2, 0.3, 0.4, 0.5, 0.6, 0.7, 0.8, 0.9  ]\n",
    "F1s = []\n",
    "\n",
    "for th in ths:\n",
    "    yhat = (result[:,1:28+1] > th ).reshape(-1).astype( np.int )\n",
    "    y =   result[:,28+1:].reshape(-1).astype( np.int )\n",
    "    acc = metrics.accuracy_score( y, yhat)\n",
    "    precision = metrics.precision_score(y, yhat, average='macro')\n",
    "    recall = metrics.recall_score(y, yhat, average='macro')\n",
    "    f1_score = 2*precision*recall/(precision+recall)\n",
    "    F1s.append( f1_score )\n",
    "    print(th, f1_score)\n",
    "\n",
    "    "
   ]
  },
  {
   "cell_type": "code",
   "execution_count": null,
   "metadata": {},
   "outputs": [],
   "source": []
  },
  {
   "cell_type": "code",
   "execution_count": null,
   "metadata": {},
   "outputs": [],
   "source": []
  },
  {
   "cell_type": "code",
   "execution_count": 52,
   "metadata": {},
   "outputs": [
    {
     "name": "stdout",
     "output_type": "stream",
     "text": [
      "             precision    recall  f1-score   support\n",
      "\n",
      "          0       0.99      1.00      1.00      2640\n",
      "          1       0.99      0.91      0.95       160\n",
      "\n",
      "avg / total       0.99      0.99      0.99      2800\n",
      "\n"
     ]
    }
   ],
   "source": [
    "metric = metrics.classification_report(y, yhat)\n",
    "print(metric)"
   ]
  },
  {
   "cell_type": "code",
   "execution_count": 53,
   "metadata": {},
   "outputs": [
    {
     "name": "stdout",
     "output_type": "stream",
     "text": [
      "[[2638    2]\n",
      " [  14  146]]\n"
     ]
    }
   ],
   "source": [
    "mc = metrics.confusion_matrix(y, yhat)\n",
    "print(mc)"
   ]
  },
  {
   "cell_type": "code",
   "execution_count": null,
   "metadata": {},
   "outputs": [],
   "source": []
  },
  {
   "cell_type": "code",
   "execution_count": 55,
   "metadata": {},
   "outputs": [
    {
     "name": "stdout",
     "output_type": "stream",
     "text": [
      "Normalized confusion matrix\n"
     ]
    },
    {
     "data": {
      "image/png": "[encoded data removed]",
      "text/plain": [
       "<Figure size 576x576 with 1 Axes>"
      ]
     },
     "metadata": {},
     "output_type": "display_data"
    }
   ],
   "source": [
    "import itertools\n",
    "import matplotlib.pyplot as plt\n",
    "%matplotlib inline\n",
    "\n",
    "def plot_confusion_matrix(cm, classes,\n",
    "                          normalize=True,\n",
    "                          title='Confusion matrix',\n",
    "                          cmap=plt.cm.Blues):\n",
    "    \"\"\"\n",
    "    This function prints and plots the confusion matrix.\n",
    "    Normalization can be applied by setting `normalize=True`.\n",
    "    \"\"\"\n",
    "    if normalize:\n",
    "        cm = cm.astype('float') / cm.sum(axis=1)[:, np.newaxis]\n",
    "        print(\"Normalized confusion matrix\")\n",
    "    else:\n",
    "        print('Confusion matrix, without normalization')\n",
    "\n",
    "    #print(cm)\n",
    "\n",
    "    plt.imshow(cm, interpolation='nearest', cmap=cmap)\n",
    "    plt.title(title)\n",
    "    #plt.colorbar()\n",
    "    tick_marks = np.arange(len(classes))\n",
    "    plt.xticks(tick_marks, classes, rotation=45)\n",
    "    plt.yticks(tick_marks, classes)\n",
    "\n",
    "    fmt = '.2f' if normalize else 'd'\n",
    "    thresh = cm.max() / 2.\n",
    "    for i, j in itertools.product(range(cm.shape[0]), range(cm.shape[1])):\n",
    "        plt.text(j, i, format(cm[i, j], fmt),\n",
    "                 horizontalalignment=\"center\",\n",
    "                 color=\"white\" if cm[i, j] > thresh else \"black\")\n",
    "\n",
    "    plt.tight_layout()\n",
    "    plt.ylabel('True label')\n",
    "    plt.xlabel('Predicted label')\n",
    "\n",
    "\n",
    "plt.figure( figsize=(8,8))\n",
    "plot_confusion_matrix(mc, classes=['pos','neg'], title=' ')\n",
    "plt.show()"
   ]
  },
  {
   "cell_type": "code",
   "execution_count": null,
   "metadata": {},
   "outputs": [],
   "source": []
  },
  {
   "cell_type": "code",
   "execution_count": null,
   "metadata": {},
   "outputs": [],
   "source": []
  },
  {
   "cell_type": "code",
   "execution_count": null,
   "metadata": {},
   "outputs": [],
   "source": []
  },
  {
   "cell_type": "code",
   "execution_count": null,
   "metadata": {},
   "outputs": [],
   "source": []
  },
  {
   "cell_type": "code",
   "execution_count": null,
   "metadata": {},
   "outputs": [],
   "source": []
  }
 ],
 "metadata": {
  "kernelspec": {
   "display_name": "Python 3",
   "language": "python",
   "name": "python3"
  },
  "language_info": {
   "codemirror_mode": {
    "name": "ipython",
    "version": 3
   },
   "file_extension": ".py",
   "mimetype": "text/x-python",
   "name": "python",
   "nbconvert_exporter": "python",
   "pygments_lexer": "ipython3",
   "version": "3.6.6"
  }
 },
 "nbformat": 4,
 "nbformat_minor": 2
}
