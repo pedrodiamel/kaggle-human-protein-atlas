{
 "cells": [
  {
   "cell_type": "code",
   "execution_count": null,
   "metadata": {},
   "outputs": [],
   "source": []
  },
  {
   "cell_type": "code",
   "execution_count": 1,
   "metadata": {},
   "outputs": [],
   "source": [
    "import os\n",
    "import sys\n",
    "import numpy as np\n",
    "import pandas as pd\n",
    "import random\n",
    "\n",
    "from argparse import ArgumentParser\n",
    "import datetime\n",
    "\n",
    "import torch\n",
    "from torch.utils.data import Dataset, DataLoader\n",
    "from torchvision import transforms, utils\n",
    "import torch.backends.cudnn as cudnn\n",
    "\n",
    "from pytvision.transforms import transforms as mtrans\n",
    "from pytvision import visualization as view\n",
    "\n",
    "sys.path.append('../')\n",
    "from torchlib.datasets.datasets import ATLASDataset \n",
    "from torchlib.neuralnet import NeuralNetClassifier\n",
    "from misc import get_transforms_det\n",
    "\n",
    "from sklearn import metrics"
   ]
  },
  {
   "cell_type": "code",
   "execution_count": null,
   "metadata": {},
   "outputs": [],
   "source": []
  },
  {
   "cell_type": "code",
   "execution_count": 2,
   "metadata": {},
   "outputs": [
    {
     "name": "stdout",
     "output_type": "stream",
     "text": [
      "/home/fernandez/.datasets\n",
      "../out/netruns\n"
     ]
    }
   ],
   "source": [
    "pathname = os.path.expanduser( '~/.datasets' )\n",
    "projectnet='../out/netruns'\n",
    "no_cuda=False\n",
    "seed=1\n",
    "gpu=0\n",
    "batch_size=60\n",
    "workers=10\n",
    "num_input_channels=3\n",
    "\n",
    "print(pathname)\n",
    "print(projectnet)"
   ]
  },
  {
   "cell_type": "code",
   "execution_count": 3,
   "metadata": {},
   "outputs": [
    {
     "name": "stdout",
     "output_type": "stream",
     "text": [
      "atlas_baseline_inception_v4_mix_adam_atlas_004\n",
      "atlas_baseline_preactresnet18_bcewl_adam_atlas_001\n",
      "atlas_baseline_preactresnet18_mix_sgd_atlas_002\n",
      "atlas_baseline_preactresnet18_mix_sgd_atlas_003\n",
      "atlas_baseline_resnet101_mix_adam_atlas_006\n",
      "atlas_baseline_resnet152_mix_adam_atlas_006\n",
      "atlas_baseline_resnet18_mix_adam_atlas_005\n",
      "atlas_baseline_resnet50_mix_adam_atlas_006\n",
      "results\n",
      "test_atlas_baseline_inception_v4_mix_adam_atlas_004_atlas_0_dp.csv\n",
      "test_atlas_baseline_inception_v4_mix_adam_atlas_004_atlas_1_dp.csv\n",
      "test_atlas_baseline_inception_v4_mix_adam_atlas_004_atlas_2_dp.csv\n"
     ]
    }
   ],
   "source": [
    "!ls ../out/netruns/"
   ]
  },
  {
   "cell_type": "code",
   "execution_count": 4,
   "metadata": {},
   "outputs": [
    {
     "name": "stdout",
     "output_type": "stream",
     "text": [
      "../out/netruns/atlas_baseline_resnet50_mix_adam_atlas_006\n",
      "../out/netruns/atlas_baseline_resnet50_mix_adam_atlas_006/models/model_best.pth.tar\n"
     ]
    }
   ],
   "source": [
    "name = 'atlas_baseline_resnet50_mix_adam_atlas_006'\n",
    "project = os.path.join(projectnet, name)\n",
    "model = 'model_best.pth.tar' #'chk000025.pth.tar', model_best\n",
    "pathmodels = os.path.join(project,'models',model)\n",
    "\n",
    "print(project)\n",
    "print(pathmodels)"
   ]
  },
  {
   "cell_type": "markdown",
   "metadata": {},
   "source": [
    "## Load model"
   ]
  },
  {
   "cell_type": "code",
   "execution_count": 5,
   "metadata": {},
   "outputs": [
    {
     "name": "stderr",
     "output_type": "stream",
     "text": [
      "Without the incoming socket you cannot receive events from the server or register event handlers to your Visdom client.\n"
     ]
    },
    {
     "name": "stdout",
     "output_type": "stream",
     "text": [
      "=> loading checkpoint '../out/netruns/atlas_baseline_resnet50_mix_adam_atlas_006/models/model_best.pth.tar'\n",
      "=> loaded checkpoint for resnet50 arch!\n"
     ]
    }
   ],
   "source": [
    "# neuralnet\n",
    "network = NeuralNetClassifier(\n",
    "    patchproject=project,\n",
    "    nameproject=name,\n",
    "    no_cuda=no_cuda,\n",
    "    seed=seed,\n",
    "    gpu=gpu\n",
    "    )\n",
    "\n",
    "cudnn.benchmark = True\n",
    "\n",
    "# load model\n",
    "if network.load( pathmodels ) is not True:\n",
    "    assert(False)"
   ]
  },
  {
   "cell_type": "code",
   "execution_count": null,
   "metadata": {},
   "outputs": [],
   "source": []
  },
  {
   "cell_type": "code",
   "execution_count": 6,
   "metadata": {},
   "outputs": [
    {
     "name": "stdout",
     "output_type": "stream",
     "text": [
      "Data loader \n",
      "2\n",
      "100\n"
     ]
    }
   ],
   "source": [
    "\n",
    "pathdata='~/.kaggle/competitions/human-protein-atlas-image-classification'\n",
    "name_dataset='atlas'\n",
    "subset='train'\n",
    "\n",
    "data = ATLASDataset(        \n",
    "    path=pathdata, \n",
    "    train=True,\n",
    "    folders_images='train', \n",
    "    metadata='train.csv',\n",
    "    count=100,\n",
    "    num_channels=3,\n",
    "    transform=get_transforms_det( network.size_input ), #get_transforms_aug\n",
    "    )\n",
    "\n",
    "dataloader = DataLoader(data, batch_size=batch_size, shuffle=False, num_workers=workers )\n",
    "\n",
    "print('Data loader ')\n",
    "print(len(dataloader))\n",
    "print(len(data))"
   ]
  },
  {
   "cell_type": "code",
   "execution_count": 7,
   "metadata": {},
   "outputs": [
    {
     "name": "stderr",
     "output_type": "stream",
     "text": [
      "100%|██████████| 2/2 [00:07<00:00,  3.93s/it]"
     ]
    },
    {
     "name": "stdout",
     "output_type": "stream",
     "text": [
      "dir: ../out/netruns/atlas_baseline_resnet50_mix_adam_atlas_006\n",
      "DONE!!!\n"
     ]
    },
    {
     "name": "stderr",
     "output_type": "stream",
     "text": [
      "\n"
     ]
    }
   ],
   "source": [
    "Id, Yhat, Y = network.predict( dataloader )\n",
    "df = pd.DataFrame( np.concatenate((Id[:,np.newaxis], Yhat, Y), axis=1) )\n",
    "df.to_csv( os.path.join(project , '{}_{}_{}_dp.csv'.format(subset,name,name_dataset)), index=False, encoding='utf-8')        \n",
    "print('dir: {}'.format(project))\n",
    "print('DONE!!!')"
   ]
  },
  {
   "cell_type": "code",
   "execution_count": 8,
   "metadata": {},
   "outputs": [
    {
     "data": {
      "text/html": [
       "<div>\n",
       "<style scoped>\n",
       "    .dataframe tbody tr th:only-of-type {\n",
       "        vertical-align: middle;\n",
       "    }\n",
       "\n",
       "    .dataframe tbody tr th {\n",
       "        vertical-align: top;\n",
       "    }\n",
       "\n",
       "    .dataframe thead th {\n",
       "        text-align: right;\n",
       "    }\n",
       "</style>\n",
       "<table border=\"1\" class=\"dataframe\">\n",
       "  <thead>\n",
       "    <tr style=\"text-align: right;\">\n",
       "      <th></th>\n",
       "      <th>0</th>\n",
       "      <th>1</th>\n",
       "      <th>2</th>\n",
       "      <th>3</th>\n",
       "      <th>4</th>\n",
       "      <th>5</th>\n",
       "      <th>6</th>\n",
       "      <th>7</th>\n",
       "      <th>8</th>\n",
       "      <th>9</th>\n",
       "      <th>...</th>\n",
       "      <th>47</th>\n",
       "      <th>48</th>\n",
       "      <th>49</th>\n",
       "      <th>50</th>\n",
       "      <th>51</th>\n",
       "      <th>52</th>\n",
       "      <th>53</th>\n",
       "      <th>54</th>\n",
       "      <th>55</th>\n",
       "      <th>56</th>\n",
       "    </tr>\n",
       "  </thead>\n",
       "  <tbody>\n",
       "    <tr>\n",
       "      <th>0</th>\n",
       "      <td>00070df0-bbc3-11e8-b2bc-ac1f6b6435d0</td>\n",
       "      <td>0.999999</td>\n",
       "      <td>3.043632e-07</td>\n",
       "      <td>0.339353</td>\n",
       "      <td>1.156915e-08</td>\n",
       "      <td>3.414559e-07</td>\n",
       "      <td>4.829486e-03</td>\n",
       "      <td>3.400156e-08</td>\n",
       "      <td>4.569942e-08</td>\n",
       "      <td>4.807399e-11</td>\n",
       "      <td>...</td>\n",
       "      <td>0.0</td>\n",
       "      <td>0.0</td>\n",
       "      <td>0.0</td>\n",
       "      <td>0.0</td>\n",
       "      <td>0.0</td>\n",
       "      <td>0.0</td>\n",
       "      <td>0.0</td>\n",
       "      <td>0.0</td>\n",
       "      <td>0.0</td>\n",
       "      <td>0.0</td>\n",
       "    </tr>\n",
       "    <tr>\n",
       "      <th>1</th>\n",
       "      <td>000a6c98-bb9b-11e8-b2b9-ac1f6b6435d0</td>\n",
       "      <td>0.999941</td>\n",
       "      <td>9.999998e-01</td>\n",
       "      <td>0.999999</td>\n",
       "      <td>1.894197e-09</td>\n",
       "      <td>1.330511e-06</td>\n",
       "      <td>8.291723e-04</td>\n",
       "      <td>7.106387e-09</td>\n",
       "      <td>9.994650e-01</td>\n",
       "      <td>1.295266e-07</td>\n",
       "      <td>...</td>\n",
       "      <td>0.0</td>\n",
       "      <td>0.0</td>\n",
       "      <td>0.0</td>\n",
       "      <td>0.0</td>\n",
       "      <td>0.0</td>\n",
       "      <td>0.0</td>\n",
       "      <td>0.0</td>\n",
       "      <td>0.0</td>\n",
       "      <td>0.0</td>\n",
       "      <td>0.0</td>\n",
       "    </tr>\n",
       "    <tr>\n",
       "      <th>2</th>\n",
       "      <td>000a9596-bbc4-11e8-b2bc-ac1f6b6435d0</td>\n",
       "      <td>0.001905</td>\n",
       "      <td>6.606756e-06</td>\n",
       "      <td>0.000493</td>\n",
       "      <td>1.911087e-03</td>\n",
       "      <td>1.924424e-04</td>\n",
       "      <td>9.134142e-01</td>\n",
       "      <td>2.784048e-05</td>\n",
       "      <td>1.367756e-02</td>\n",
       "      <td>1.077683e-06</td>\n",
       "      <td>...</td>\n",
       "      <td>0.0</td>\n",
       "      <td>0.0</td>\n",
       "      <td>0.0</td>\n",
       "      <td>0.0</td>\n",
       "      <td>0.0</td>\n",
       "      <td>0.0</td>\n",
       "      <td>0.0</td>\n",
       "      <td>0.0</td>\n",
       "      <td>0.0</td>\n",
       "      <td>0.0</td>\n",
       "    </tr>\n",
       "    <tr>\n",
       "      <th>3</th>\n",
       "      <td>000c99ba-bba4-11e8-b2b9-ac1f6b6435d0</td>\n",
       "      <td>0.157176</td>\n",
       "      <td>9.999683e-01</td>\n",
       "      <td>0.000317</td>\n",
       "      <td>8.916546e-06</td>\n",
       "      <td>2.149644e-08</td>\n",
       "      <td>1.602147e-05</td>\n",
       "      <td>1.761531e-04</td>\n",
       "      <td>8.419326e-07</td>\n",
       "      <td>8.132785e-11</td>\n",
       "      <td>...</td>\n",
       "      <td>0.0</td>\n",
       "      <td>0.0</td>\n",
       "      <td>0.0</td>\n",
       "      <td>0.0</td>\n",
       "      <td>0.0</td>\n",
       "      <td>0.0</td>\n",
       "      <td>0.0</td>\n",
       "      <td>0.0</td>\n",
       "      <td>0.0</td>\n",
       "      <td>0.0</td>\n",
       "    </tr>\n",
       "    <tr>\n",
       "      <th>4</th>\n",
       "      <td>001838f8-bbca-11e8-b2bc-ac1f6b6435d0</td>\n",
       "      <td>0.000001</td>\n",
       "      <td>1.251895e-05</td>\n",
       "      <td>0.000014</td>\n",
       "      <td>4.382867e-03</td>\n",
       "      <td>6.850827e-06</td>\n",
       "      <td>5.661733e-08</td>\n",
       "      <td>2.587066e-07</td>\n",
       "      <td>7.288632e-09</td>\n",
       "      <td>1.009146e-11</td>\n",
       "      <td>...</td>\n",
       "      <td>1.0</td>\n",
       "      <td>0.0</td>\n",
       "      <td>0.0</td>\n",
       "      <td>0.0</td>\n",
       "      <td>0.0</td>\n",
       "      <td>0.0</td>\n",
       "      <td>0.0</td>\n",
       "      <td>0.0</td>\n",
       "      <td>0.0</td>\n",
       "      <td>0.0</td>\n",
       "    </tr>\n",
       "  </tbody>\n",
       "</table>\n",
       "<p>5 rows × 57 columns</p>\n",
       "</div>"
      ],
      "text/plain": [
       "                                      0         1             2         3  \\\n",
       "0  00070df0-bbc3-11e8-b2bc-ac1f6b6435d0  0.999999  3.043632e-07  0.339353   \n",
       "1  000a6c98-bb9b-11e8-b2b9-ac1f6b6435d0  0.999941  9.999998e-01  0.999999   \n",
       "2  000a9596-bbc4-11e8-b2bc-ac1f6b6435d0  0.001905  6.606756e-06  0.000493   \n",
       "3  000c99ba-bba4-11e8-b2b9-ac1f6b6435d0  0.157176  9.999683e-01  0.000317   \n",
       "4  001838f8-bbca-11e8-b2bc-ac1f6b6435d0  0.000001  1.251895e-05  0.000014   \n",
       "\n",
       "              4             5             6             7             8  \\\n",
       "0  1.156915e-08  3.414559e-07  4.829486e-03  3.400156e-08  4.569942e-08   \n",
       "1  1.894197e-09  1.330511e-06  8.291723e-04  7.106387e-09  9.994650e-01   \n",
       "2  1.911087e-03  1.924424e-04  9.134142e-01  2.784048e-05  1.367756e-02   \n",
       "3  8.916546e-06  2.149644e-08  1.602147e-05  1.761531e-04  8.419326e-07   \n",
       "4  4.382867e-03  6.850827e-06  5.661733e-08  2.587066e-07  7.288632e-09   \n",
       "\n",
       "              9 ...    47   48   49   50   51   52   53   54   55   56  \n",
       "0  4.807399e-11 ...   0.0  0.0  0.0  0.0  0.0  0.0  0.0  0.0  0.0  0.0  \n",
       "1  1.295266e-07 ...   0.0  0.0  0.0  0.0  0.0  0.0  0.0  0.0  0.0  0.0  \n",
       "2  1.077683e-06 ...   0.0  0.0  0.0  0.0  0.0  0.0  0.0  0.0  0.0  0.0  \n",
       "3  8.132785e-11 ...   0.0  0.0  0.0  0.0  0.0  0.0  0.0  0.0  0.0  0.0  \n",
       "4  1.009146e-11 ...   1.0  0.0  0.0  0.0  0.0  0.0  0.0  0.0  0.0  0.0  \n",
       "\n",
       "[5 rows x 57 columns]"
      ]
     },
     "execution_count": 8,
     "metadata": {},
     "output_type": "execute_result"
    }
   ],
   "source": [
    "df = pd.read_csv( os.path.join(project , '{}_{}_{}_dp.csv'.format(subset, name, name_dataset))  )\n",
    "df.head()"
   ]
  },
  {
   "cell_type": "code",
   "execution_count": 9,
   "metadata": {},
   "outputs": [
    {
     "data": {
      "text/plain": [
       "array([45,  8, 16,  6,  1, 10,  3,  8,  0,  0,  0,  5,  3,  2,  4,  0,  2,\n",
       "        1,  4,  2,  1, 17,  3, 11,  1, 29,  0,  0])"
      ]
     },
     "execution_count": 9,
     "metadata": {},
     "output_type": "execute_result"
    }
   ],
   "source": [
    "(Yhat>0.1).sum(axis=0)"
   ]
  },
  {
   "cell_type": "code",
   "execution_count": 10,
   "metadata": {},
   "outputs": [
    {
     "data": {
      "text/plain": [
       "array([38.,  6., 14.,  6.,  2.,  6.,  4.,  9.,  0.,  0.,  0.,  4.,  4.,\n",
       "        2.,  4.,  0.,  3.,  1.,  4.,  1.,  1., 13.,  2., 11.,  1., 24.,\n",
       "        0.,  0.])"
      ]
     },
     "execution_count": 10,
     "metadata": {},
     "output_type": "execute_result"
    }
   ],
   "source": [
    "Y.sum(axis=0)"
   ]
  },
  {
   "cell_type": "code",
   "execution_count": 13,
   "metadata": {},
   "outputs": [
    {
     "data": {
      "image/png": "[encoded data removed]",
      "text/plain": [
       "<Figure size 432x288 with 1 Axes>"
      ]
     },
     "metadata": {},
     "output_type": "display_data"
    },
    {
     "data": {
      "image/png": "[encoded data removed]",
      "text/plain": [
       "<Figure size 432x288 with 1 Axes>"
      ]
     },
     "metadata": {},
     "output_type": "display_data"
    }
   ],
   "source": [
    "import matplotlib.pyplot as plt\n",
    "\n",
    "plt.figure()\n",
    "plt.hist( (Yhat>0.1).sum(axis=0) )\n",
    "plt.show()\n",
    "\n",
    "plt.figure()\n",
    "plt.hist( Y.sum(axis=0) )\n",
    "plt.show()\n",
    "\n"
   ]
  },
  {
   "cell_type": "code",
   "execution_count": 22,
   "metadata": {},
   "outputs": [
    {
     "data": {
      "image/png": "[encoded data removed]",
      "text/plain": [
       "<Figure size 432x288 with 1 Axes>"
      ]
     },
     "metadata": {},
     "output_type": "display_data"
    }
   ],
   "source": [
    "#O, C = np.unique( Y.reshape(-1), return_counts=True )\n",
    "C = Y.sum( axis=0 )/Y.sum()\n",
    "\n",
    "plt.figure()\n",
    "plt.hist( C )\n",
    "plt.show()\n"
   ]
  },
  {
   "cell_type": "code",
   "execution_count": 50,
   "metadata": {},
   "outputs": [
    {
     "data": {
      "text/plain": [
       "array([0.2375, 0.0375, 0.0875, 0.0375, 0.0125, 0.0375, 0.025, 0.05625,\n",
       "       0.0, 0.0, 0.0, 0.025, 0.025, 0.0125, 0.025, 0.0, 0.01875, 0.00625,\n",
       "       0.025, 0.00625, 0.00625, 0.08125, 0.0125, 0.06875, 0.00625, 0.15,\n",
       "       0.0, 0.0], dtype=object)"
      ]
     },
     "execution_count": 50,
     "metadata": {},
     "output_type": "execute_result"
    }
   ],
   "source": [
    "th\n",
    "\n",
    "# th = np.array([0.2375, 0.0375, 0.0875, 0.0375, 0.0125, 0.0375, 0.025, 0.05625,\n",
    "#        0.0, 0.0, 0.0, 0.025, 0.025, 0.0125, 0.025, 0.0, 0.01875, 0.00625,\n",
    "#        0.025, 0.00625, 0.00625, 0.08125, 0.0125, 0.06875, 0.00625, 0.15,\n",
    "#        0.0, 0.0])\n"
   ]
  },
  {
   "cell_type": "code",
   "execution_count": 48,
   "metadata": {},
   "outputs": [
    {
     "name": "stdout",
     "output_type": "stream",
     "text": [
      "Accuracy : 0.990714\n",
      "Precision : 0.961907\n",
      "Recall : 0.951042\n",
      "F1 score : 0.956443\n",
      "\n"
     ]
    }
   ],
   "source": [
    "\n",
    "\n",
    "result = df.as_matrix()\n",
    "iDs  = result[:,0]\n",
    "yhat = result[:,1:28+1]\n",
    "y    = result[:,28+1:]\n",
    "th = y.sum( axis=0 )/y.sum()\n",
    "\n",
    "yb = yhat >  th + 0.5\n",
    "#print(yb.sum(axis=0))\n",
    "#print(yb)\n",
    "\n",
    "yb = yb.reshape(-1).astype( np.int )\n",
    "y  =  y.reshape(-1).astype( np.int )\n",
    "\n",
    "acc = metrics.accuracy_score( y, yb)\n",
    "precision = metrics.precision_score(y, yb, average='macro')\n",
    "recall = metrics.recall_score(y, yb, average='macro')\n",
    "f1_score = 2*precision*recall/(precision+recall)\n",
    "\n",
    "print('Accuracy : %f' % acc)\n",
    "print('Precision : %f' % precision)\n",
    "print('Recall : %f' % recall)\n",
    "print('F1 score : %f' % f1_score)\n",
    "print(\"\")\n"
   ]
  },
  {
   "cell_type": "code",
   "execution_count": 30,
   "metadata": {},
   "outputs": [
    {
     "name": "stdout",
     "output_type": "stream",
     "text": [
      "Accuracy : 0.988214\n",
      "Precision : 0.933580\n",
      "Recall : 0.961458\n",
      "F1 score : 0.947314\n",
      "\n"
     ]
    }
   ],
   "source": [
    "\n",
    "th=0.23\n",
    "result = df.as_matrix()\n",
    "iDs = result[:,0]\n",
    "yhat = (result[:,1:28+1] > th ).reshape(-1).astype( np.int )\n",
    "y =   result[:,28+1:].reshape(-1).astype( np.int )\n",
    "\n",
    "acc = metrics.accuracy_score( y, yhat)\n",
    "precision = metrics.precision_score(y, yhat, average='macro')\n",
    "recall = metrics.recall_score(y, yhat, average='macro')\n",
    "f1_score = 2*precision*recall/(precision+recall)\n",
    "\n",
    "print('Accuracy : %f' % acc)\n",
    "print('Precision : %f' % precision)\n",
    "print('Recall : %f' % recall)\n",
    "print('F1 score : %f' % f1_score)\n",
    "print(\"\")"
   ]
  },
  {
   "cell_type": "code",
   "execution_count": 28,
   "metadata": {},
   "outputs": [
    {
     "name": "stdout",
     "output_type": "stream",
     "text": [
      "0.1 0.9388157872545749\n",
      "0.2 0.9459164735977907\n",
      "0.3 0.9483433975953\n",
      "0.4 0.9505844625788784\n",
      "0.5 0.9518023865083948\n",
      "0.6 0.9533349084360548\n",
      "0.7 0.9512917805517023\n",
      "0.8 0.9540972629268056\n",
      "0.9 0.948344569569335\n"
     ]
    }
   ],
   "source": [
    "\n",
    "result = df.as_matrix()\n",
    "iDs = result[:,0]\n",
    "ths=[ 0.1, 0.2, 0.3, 0.4, 0.5, 0.6, 0.7, 0.8, 0.9  ]\n",
    "F1s = []\n",
    "\n",
    "for th in ths:\n",
    "    yhat = (result[:,1:28+1] > th ).reshape(-1).astype( np.int )\n",
    "    y =   result[:,28+1:].reshape(-1).astype( np.int )\n",
    "    acc = metrics.accuracy_score( y, yhat)\n",
    "    precision = metrics.precision_score(y, yhat, average='macro')\n",
    "    recall = metrics.recall_score(y, yhat, average='macro')\n",
    "    f1_score = 2*precision*recall/(precision+recall)\n",
    "    F1s.append( f1_score )\n",
    "    print(th, f1_score)\n",
    "\n",
    "    "
   ]
  },
  {
   "cell_type": "code",
   "execution_count": 29,
   "metadata": {},
   "outputs": [
    {
     "data": {
      "text/plain": [
       "[<matplotlib.lines.Line2D at 0x7fe0009f0438>]"
      ]
     },
     "execution_count": 29,
     "metadata": {},
     "output_type": "execute_result"
    },
    {
     "data": {
      "image/png": "[encoded data removed]",
      "text/plain": [
       "<Figure size 432x288 with 1 Axes>"
      ]
     },
     "metadata": {},
     "output_type": "display_data"
    }
   ],
   "source": [
    "plt.plot(F1s)"
   ]
  },
  {
   "cell_type": "code",
   "execution_count": null,
   "metadata": {},
   "outputs": [],
   "source": []
  },
  {
   "cell_type": "code",
   "execution_count": 52,
   "metadata": {},
   "outputs": [
    {
     "name": "stdout",
     "output_type": "stream",
     "text": [
      "             precision    recall  f1-score   support\n",
      "\n",
      "          0       0.99      1.00      1.00      2640\n",
      "          1       0.99      0.91      0.95       160\n",
      "\n",
      "avg / total       0.99      0.99      0.99      2800\n",
      "\n"
     ]
    }
   ],
   "source": [
    "metric = metrics.classification_report(y, yhat)\n",
    "print(metric)"
   ]
  },
  {
   "cell_type": "code",
   "execution_count": 53,
   "metadata": {},
   "outputs": [
    {
     "name": "stdout",
     "output_type": "stream",
     "text": [
      "[[2638    2]\n",
      " [  14  146]]\n"
     ]
    }
   ],
   "source": [
    "mc = metrics.confusion_matrix(y, yhat)\n",
    "print(mc)"
   ]
  },
  {
   "cell_type": "code",
   "execution_count": null,
   "metadata": {},
   "outputs": [],
   "source": []
  },
  {
   "cell_type": "code",
   "execution_count": 55,
   "metadata": {},
   "outputs": [
    {
     "name": "stdout",
     "output_type": "stream",
     "text": [
      "Normalized confusion matrix\n"
     ]
    },
    {
     "data": {
      "image/png": "[encoded data removed]",
      "text/plain": [
       "<Figure size 576x576 with 1 Axes>"
      ]
     },
     "metadata": {},
     "output_type": "display_data"
    }
   ],
   "source": [
    "import itertools\n",
    "import matplotlib.pyplot as plt\n",
    "%matplotlib inline\n",
    "\n",
    "def plot_confusion_matrix(cm, classes,\n",
    "                          normalize=True,\n",
    "                          title='Confusion matrix',\n",
    "                          cmap=plt.cm.Blues):\n",
    "    \"\"\"\n",
    "    This function prints and plots the confusion matrix.\n",
    "    Normalization can be applied by setting `normalize=True`.\n",
    "    \"\"\"\n",
    "    if normalize:\n",
    "        cm = cm.astype('float') / cm.sum(axis=1)[:, np.newaxis]\n",
    "        print(\"Normalized confusion matrix\")\n",
    "    else:\n",
    "        print('Confusion matrix, without normalization')\n",
    "\n",
    "    #print(cm)\n",
    "\n",
    "    plt.imshow(cm, interpolation='nearest', cmap=cmap)\n",
    "    plt.title(title)\n",
    "    #plt.colorbar()\n",
    "    tick_marks = np.arange(len(classes))\n",
    "    plt.xticks(tick_marks, classes, rotation=45)\n",
    "    plt.yticks(tick_marks, classes)\n",
    "\n",
    "    fmt = '.2f' if normalize else 'd'\n",
    "    thresh = cm.max() / 2.\n",
    "    for i, j in itertools.product(range(cm.shape[0]), range(cm.shape[1])):\n",
    "        plt.text(j, i, format(cm[i, j], fmt),\n",
    "                 horizontalalignment=\"center\",\n",
    "                 color=\"white\" if cm[i, j] > thresh else \"black\")\n",
    "\n",
    "    plt.tight_layout()\n",
    "    plt.ylabel('True label')\n",
    "    plt.xlabel('Predicted label')\n",
    "\n",
    "\n",
    "plt.figure( figsize=(8,8))\n",
    "plot_confusion_matrix(mc, classes=['pos','neg'], title=' ')\n",
    "plt.show()"
   ]
  },
  {
   "cell_type": "code",
   "execution_count": null,
   "metadata": {},
   "outputs": [],
   "source": []
  },
  {
   "cell_type": "code",
   "execution_count": null,
   "metadata": {},
   "outputs": [],
   "source": []
  },
  {
   "cell_type": "code",
   "execution_count": null,
   "metadata": {},
   "outputs": [],
   "source": []
  },
  {
   "cell_type": "code",
   "execution_count": null,
   "metadata": {},
   "outputs": [],
   "source": []
  },
  {
   "cell_type": "code",
   "execution_count": null,
   "metadata": {},
   "outputs": [],
   "source": []
  }
 ],
 "metadata": {
  "kernelspec": {
   "display_name": "Python 3",
   "language": "python",
   "name": "python3"
  },
  "language_info": {
   "codemirror_mode": {
    "name": "ipython",
    "version": 3
   },
   "file_extension": ".py",
   "mimetype": "text/x-python",
   "name": "python",
   "nbconvert_exporter": "python",
   "pygments_lexer": "ipython3",
   "version": "3.6.6"
  }
 },
 "nbformat": 4,
 "nbformat_minor": 2
}
