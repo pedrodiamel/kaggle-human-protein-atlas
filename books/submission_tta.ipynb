{
 "cells": [
  {
   "cell_type": "code",
   "execution_count": null,
   "metadata": {},
   "outputs": [],
   "source": []
  },
  {
   "cell_type": "code",
   "execution_count": 1,
   "metadata": {},
   "outputs": [],
   "source": [
    "import os\n",
    "import sys\n",
    "import numpy as np\n",
    "import pandas as pd\n",
    "import random\n",
    "\n",
    "from argparse import ArgumentParser\n",
    "import datetime\n",
    "\n",
    "import torch\n",
    "from torch.utils.data import Dataset, DataLoader\n",
    "from torchvision import transforms, utils\n",
    "import torch.backends.cudnn as cudnn\n",
    "\n",
    "from pytvision.transforms import transforms as mtrans\n",
    "from pytvision import visualization as view\n",
    "\n",
    "sys.path.append('../')\n",
    "from torchlib.datasets.datasets import ATLASDataset \n",
    "from torchlib.neuralnet import NeuralNetClassifier\n",
    "from misc import (get_transforms_det, get_transforms_hflip, get_transforms_vflip )\n",
    "\n",
    "from sklearn import metrics"
   ]
  },
  {
   "cell_type": "code",
   "execution_count": null,
   "metadata": {},
   "outputs": [],
   "source": []
  },
  {
   "cell_type": "code",
   "execution_count": 2,
   "metadata": {},
   "outputs": [
    {
     "name": "stdout",
     "output_type": "stream",
     "text": [
      "/home/fernandez/.datasets\n",
      "../out/netruns\n"
     ]
    }
   ],
   "source": [
    "pathname = os.path.expanduser( '~/.datasets' )\n",
    "projectnet='../out/netruns'\n",
    "no_cuda=False\n",
    "seed=1\n",
    "gpu=0\n",
    "batch_size=60\n",
    "workers=10\n",
    "num_input_channels=3\n",
    "parallel=False\n",
    "\n",
    "print(pathname)\n",
    "print(projectnet)"
   ]
  },
  {
   "cell_type": "code",
   "execution_count": 3,
   "metadata": {},
   "outputs": [
    {
     "name": "stdout",
     "output_type": "stream",
     "text": [
      "atlas_baseline_inception_v4_mix_adam_atlas_004\n",
      "atlas_baseline_nasnetalarge_mix_adam_atlas_007\n",
      "atlas_baseline_resnet18_mix_adam_atlas_005\n",
      "atlas_baseline_resnet18_mix_adam_atlas_009\n",
      "atlas_baseline_resnet34_mix_adam_atlas_011\n",
      "atlas_baseline_resnet50_mix_adam_atlas_006\n",
      "atlas_baseline_se_resnet50_mix_adam_atlas_011\n",
      "results\n",
      "resultsLB140\n",
      "resultsxxx\n",
      "resultsxxxxx\n",
      "test_atlas_baseline_inception_v4_mix_adam_atlas_004_atlas_0_dp.csv\n",
      "test_atlas_baseline_inception_v4_mix_adam_atlas_004_atlas_1_dp.csv\n",
      "test_atlas_baseline_inception_v4_mix_adam_atlas_004_atlas_2_dp.csv\n"
     ]
    }
   ],
   "source": [
    "!ls ../out/netruns/"
   ]
  },
  {
   "cell_type": "code",
   "execution_count": 4,
   "metadata": {},
   "outputs": [
    {
     "name": "stdout",
     "output_type": "stream",
     "text": [
      "../out/netruns/atlas_baseline_se_resnet50_mix_adam_atlas_011\n",
      "../out/netruns/atlas_baseline_se_resnet50_mix_adam_atlas_011/models/model_best.pth.tar\n"
     ]
    }
   ],
   "source": [
    "name = 'atlas_baseline_se_resnet50_mix_adam_atlas_011'\n",
    "project = os.path.join(projectnet, name)\n",
    "pathnameout = os.path.join(projectnet, 'results' )\n",
    "model = 'model_best.pth.tar' #'chk000025.pth.tar', model_best\n",
    "pathmodels = os.path.join(project,'models',model)\n",
    "\n",
    "print(project)\n",
    "print(pathmodels)"
   ]
  },
  {
   "cell_type": "code",
   "execution_count": 5,
   "metadata": {},
   "outputs": [
    {
     "name": "stderr",
     "output_type": "stream",
     "text": [
      "Without the incoming socket you cannot receive events from the server or register event handlers to your Visdom client.\n"
     ]
    },
    {
     "name": "stdout",
     "output_type": "stream",
     "text": [
      "=> loading checkpoint '../out/netruns/atlas_baseline_se_resnet50_mix_adam_atlas_011/models/model_best.pth.tar'\n",
      "last_linear.weight dim model torch.Size([28, 2048]) vs dim checkpointtorch.Size([1000, 2048])\n",
      "last_linear.bias dim model torch.Size([28]) vs dim checkpointtorch.Size([1000])\n",
      "=> loaded checkpoint for se_resnet50 arch!\n"
     ]
    }
   ],
   "source": [
    "# neuralnet\n",
    "network = NeuralNetClassifier(\n",
    "    patchproject=project,\n",
    "    nameproject=name,\n",
    "    no_cuda=no_cuda,\n",
    "    seed=seed,\n",
    "    gpu=gpu,\n",
    "    parallel=parallel,\n",
    "    )\n",
    "\n",
    "cudnn.benchmark = True\n",
    "\n",
    "# load model\n",
    "if network.load( pathmodels ) is not True:\n",
    "    assert(False)"
   ]
  },
  {
   "cell_type": "code",
   "execution_count": null,
   "metadata": {},
   "outputs": [],
   "source": []
  },
  {
   "cell_type": "code",
   "execution_count": 6,
   "metadata": {},
   "outputs": [
    {
     "name": "stdout",
     "output_type": "stream",
     "text": [
      "3\n"
     ]
    }
   ],
   "source": [
    "pathdata='~/.kaggle/competitions/human-protein-atlas-image-classification'\n",
    "name_dataset='atlas'\n",
    "subset='test'\n",
    "\n",
    "tta_preprocess = [ \n",
    "    get_transforms_det( network.size_input ), \n",
    "    get_transforms_hflip(network.size_input), \n",
    "    get_transforms_vflip(network.size_input), \n",
    "    #get_transforms_gray(network.size_input),\n",
    "    #get_transforms_aug(network.size_input),\n",
    "    #get_transforms_aug2(network.size_input)\n",
    "    ]\n",
    "\n",
    "dataloaders = []\n",
    "for transform in tta_preprocess:    \n",
    "    # test dataset    \n",
    "    data = ATLASDataset(        \n",
    "        path=pathdata, \n",
    "        train=False,\n",
    "        folders_images='test', \n",
    "        metadata='sample_submission.csv',\n",
    "        #count=100,\n",
    "        num_channels=3,\n",
    "        transform=transform,\n",
    "        )\n",
    "    dataloader = DataLoader(data, batch_size=batch_size, shuffle=False, num_workers=workers )   \n",
    "    dataloaders.append(dataloader)\n",
    "\n",
    "print(len(dataloaders))"
   ]
  },
  {
   "cell_type": "code",
   "execution_count": null,
   "metadata": {},
   "outputs": [],
   "source": []
  },
  {
   "cell_type": "code",
   "execution_count": 7,
   "metadata": {},
   "outputs": [
    {
     "name": "stderr",
     "output_type": "stream",
     "text": [
      "100%|██████████| 196/196 [02:07<00:00,  1.54it/s]\n",
      "100%|██████████| 196/196 [02:04<00:00,  1.57it/s]\n",
      "100%|██████████| 196/196 [02:04<00:00,  1.57it/s]\n"
     ]
    },
    {
     "name": "stdout",
     "output_type": "stream",
     "text": [
      "dir: ../out/netruns/results\n",
      "DONE!!!\n"
     ]
    }
   ],
   "source": [
    "random.seed( seed )\n",
    "files = [ f for f in sorted(os.listdir(pathnameout)) if f.split('.')[-1] == 'csv' ]\n",
    "\n",
    "for i,data in enumerate(dataloaders):\n",
    "    Id, Yhat, Y = network.predict( data )\n",
    "    df = pd.DataFrame( np.concatenate((Id[:,np.newaxis], Yhat), axis=1) )\n",
    "    df.to_csv( os.path.join(pathnameout , '{}_{}_{}_{}_dp.csv'.format(subset,name,name_dataset, i + len(files))), index=False, encoding='utf-8')            \n",
    "\n",
    "print('dir: {}'.format(pathnameout))\n",
    "print('DONE!!!')"
   ]
  },
  {
   "cell_type": "code",
   "execution_count": null,
   "metadata": {},
   "outputs": [],
   "source": []
  },
  {
   "cell_type": "code",
   "execution_count": 15,
   "metadata": {},
   "outputs": [
    {
     "name": "stdout",
     "output_type": "stream",
     "text": [
      "['test_atlas_baseline_resnet18_mix_adam_atlas_005_atlas_0_dp.csv', 'test_atlas_baseline_resnet18_mix_adam_atlas_005_atlas_1_dp.csv', 'test_atlas_baseline_resnet18_mix_adam_atlas_005_atlas_2_dp.csv', 'test_atlas_baseline_resnet50_mix_adam_atlas_006_atlas_6_dp.csv', 'test_atlas_baseline_resnet50_mix_adam_atlas_006_atlas_7_dp.csv', 'test_atlas_baseline_resnet50_mix_adam_atlas_006_atlas_8_dp.csv', 'test_atlas_baseline_se_resnet50_mix_adam_atlas_011_atlas_12_dp.csv', 'test_atlas_baseline_se_resnet50_mix_adam_atlas_011_atlas_13_dp.csv', 'test_atlas_baseline_se_resnet50_mix_adam_atlas_011_atlas_14_dp.csv']\n",
      "(11702, 28, 9)\n"
     ]
    }
   ],
   "source": [
    "files = [ f for f in sorted(os.listdir(pathnameout)) if f.split('.')[-1] == 'csv' ]; \n",
    "print(files)\n",
    "\n",
    "l = len(files)\n",
    "dp =[]; ids=[]\n",
    "for f in files:  \n",
    "    mdata = pd.read_csv( os.path.join(pathnameout , f )  )\n",
    "    dpdata = mdata.as_matrix()\n",
    "    ids.append(dpdata[:,0])    \n",
    "    dp.append( dpdata[:,1:] )\n",
    "    \n",
    "dp = np.array(dp).transpose((1,2,0))\n",
    "ids = np.array(ids)\n",
    "\n",
    "print(dp.shape)"
   ]
  },
  {
   "cell_type": "code",
   "execution_count": 9,
   "metadata": {},
   "outputs": [],
   "source": [
    "def mean_ruler( dp ):\n",
    "    \"\"\"\n",
    "    Ecuation. Josef Kittler [18]\n",
    "    https://dspace.cvut.cz/bitstream/handle/10467/9443/1998-On-combining-classifiers.pdf?sequence=1\n",
    "    Soft Median Ruler\n",
    "    Args:\n",
    "        @dp: []_nxcxl\n",
    "    \"\"\"\n",
    "    p = dp.mean(2)\n",
    "    return p\n",
    "\n",
    "def product_ruler( dp, P=None ):\n",
    "    \"\"\"\n",
    "    Ecuation. Josef Kittler [7]\n",
    "    https://dspace.cvut.cz/bitstream/handle/10467/9443/1998-On-combining-classifiers.pdf?sequence=1\n",
    "    Soft Product Rule    \n",
    "    P^{(-(R-1))}( w_j )\\prod_iP(w_j|x_i)  = \\max_k P^{(-(R-1))}( w_k ) \\prod_i\n",
    "    P(w_k|x_i) (1)\n",
    "    which under the assumption of equal priors, simplifies to the following:\n",
    "    \\prod_iP(w_j|x_i)  = \\max_k \\prod_i P(w_k|x_i) (2)    \n",
    "    Args:\n",
    "        @dp: []_nxcxl\n",
    "        @P: class prior []_c\n",
    "    \"\"\"    \n",
    "    p = dp.prod(2)\n",
    "    if P is not None:\n",
    "        l = dp.shape[2]\n",
    "        p = P**-(l-1)*p\n",
    "    return p\n",
    "\n",
    "    "
   ]
  },
  {
   "cell_type": "code",
   "execution_count": 16,
   "metadata": {},
   "outputs": [
    {
     "name": "stdout",
     "output_type": "stream",
     "text": [
      "(28,)\n"
     ]
    }
   ],
   "source": [
    "\n",
    "# ths = np.array( [2.53731637e-01, 2.46937891e-02, 7.13047930e-02, 3.07392383e-02,\n",
    "#        3.65877673e-02, 4.94860384e-02, 1.98495530e-02, 5.55708716e-02,\n",
    "#        1.04367689e-03, 8.86140759e-04, 5.51376472e-04, 2.15233744e-02,\n",
    "#        1.35481076e-02, 1.05746131e-02, 2.09916900e-02, 4.13532354e-04,\n",
    "#        1.04367689e-02, 4.13532354e-03, 1.77621992e-02, 2.91835690e-02,\n",
    "#        3.38702690e-03, 7.43767477e-02, 1.57929975e-02, 5.83868300e-02,\n",
    "#        6.34082943e-03, 1.62025915e-01, 6.45898153e-03, 2.16612185e-04])\n",
    "\n",
    "# ths = np.array([0.2375, 0.0375, 0.0875, 0.0375, 0.0125, 0.0375, 0.025, 0.05625,\n",
    "#        0.0, 0.0, 0.0, 0.025, 0.025, 0.0125, 0.025, 0.0, 0.01875, 0.00625,\n",
    "#        0.025, 0.00625, 0.00625, 0.08125, 0.0125, 0.06875, 0.00625, 0.15,\n",
    "#        0.0, 0.0])\n",
    "\n",
    "ths = np.array( [0.362397820, 0.043841336, 0.075268817, 0.059322034, 0.075268817, 0.075268817, 0.043841336, 0.075268817, 0.0\n",
    "                 , 0.0, 0.0, 0.043841336, 0.043841336, 0.014198783, 0.043841336, 0.0, 0.014198783, 0.014198783, 0.028806584, \n",
    "                 0.059322034, 0.0, 0.126126126, 0.028806584, 0.075268817, 0.0, 0.222493888, 0.028806584, 0.0  ])\n",
    "\n",
    "print( ths.shape )"
   ]
  },
  {
   "cell_type": "code",
   "execution_count": 17,
   "metadata": {},
   "outputs": [
    {
     "name": "stdout",
     "output_type": "stream",
     "text": [
      "(11702, 28, 9)\n",
      "(11702, 28)\n"
     ]
    },
    {
     "data": {
      "image/png": "[encoded data removed]",
      "text/plain": [
       "<Figure size 432x288 with 1 Axes>"
      ]
     },
     "metadata": {},
     "output_type": "display_data"
    }
   ],
   "source": [
    "import matplotlib.pyplot as plt\n",
    "\n",
    "iDs = ids[0,:]\n",
    "P = mean_ruler(dp)\n",
    "# P = product_ruler(dp, ths )\n",
    "th = ths + 0.2\n",
    "\n",
    "#pred = np.argmax(p, axis=1)\n",
    "#pred = [ np.where( p > th )[0]  if len(np.where( p > th )[0])>0 else [p.argmax()]  for p in P]\n",
    "pred = P > th\n",
    "\n",
    "print(dp.shape)\n",
    "print(P.shape)\n",
    "# print(pred)\n",
    "\n",
    "plt.figure()\n",
    "plt.hist(pred.astype(np.uint8).sum(axis=0) ) \n",
    "plt.show()"
   ]
  },
  {
   "cell_type": "code",
   "execution_count": 18,
   "metadata": {},
   "outputs": [
    {
     "data": {
      "text/plain": [
       "array([4967,  530, 1427,  548,  490,  825,  434, 1088,    9,   19,   11,\n",
       "        543,  308,  238,  597,    3,  322,  227,  450,  597,   93, 2055,\n",
       "        308, 1125,  152, 4092,  121,    6])"
      ]
     },
     "execution_count": 18,
     "metadata": {},
     "output_type": "execute_result"
    }
   ],
   "source": [
    "pred.sum(axis=0)"
   ]
  },
  {
   "cell_type": "code",
   "execution_count": 158,
   "metadata": {},
   "outputs": [],
   "source": [
    "# for (Id, p) in zip( iDs,P):\n",
    "#     if len(np.where( p > th )[0]) == 0:\n",
    "#         print(Id, p.argmax())  \n"
   ]
  },
  {
   "cell_type": "code",
   "execution_count": 19,
   "metadata": {},
   "outputs": [
    {
     "data": {
      "text/html": [
       "<div>\n",
       "<style scoped>\n",
       "    .dataframe tbody tr th:only-of-type {\n",
       "        vertical-align: middle;\n",
       "    }\n",
       "\n",
       "    .dataframe tbody tr th {\n",
       "        vertical-align: top;\n",
       "    }\n",
       "\n",
       "    .dataframe thead th {\n",
       "        text-align: right;\n",
       "    }\n",
       "</style>\n",
       "<table border=\"1\" class=\"dataframe\">\n",
       "  <thead>\n",
       "    <tr style=\"text-align: right;\">\n",
       "      <th></th>\n",
       "      <th>Id</th>\n",
       "      <th>Predicted</th>\n",
       "    </tr>\n",
       "  </thead>\n",
       "  <tbody>\n",
       "    <tr>\n",
       "      <th>0</th>\n",
       "      <td>00008af0-bad0-11e8-b2b8-ac1f6b6435d0</td>\n",
       "      <td>2</td>\n",
       "    </tr>\n",
       "    <tr>\n",
       "      <th>1</th>\n",
       "      <td>0000a892-bacf-11e8-b2b8-ac1f6b6435d0</td>\n",
       "      <td>5</td>\n",
       "    </tr>\n",
       "    <tr>\n",
       "      <th>2</th>\n",
       "      <td>0006faa6-bac7-11e8-b2b7-ac1f6b6435d0</td>\n",
       "      <td>0 5 25</td>\n",
       "    </tr>\n",
       "    <tr>\n",
       "      <th>3</th>\n",
       "      <td>0008baca-bad7-11e8-b2b9-ac1f6b6435d0</td>\n",
       "      <td>0 25</td>\n",
       "    </tr>\n",
       "    <tr>\n",
       "      <th>4</th>\n",
       "      <td>000cce7e-bad4-11e8-b2b8-ac1f6b6435d0</td>\n",
       "      <td>25</td>\n",
       "    </tr>\n",
       "    <tr>\n",
       "      <th>5</th>\n",
       "      <td>00109f6a-bac8-11e8-b2b7-ac1f6b6435d0</td>\n",
       "      <td>4</td>\n",
       "    </tr>\n",
       "    <tr>\n",
       "      <th>6</th>\n",
       "      <td>001765de-bacd-11e8-b2b8-ac1f6b6435d0</td>\n",
       "      <td>0 4 25</td>\n",
       "    </tr>\n",
       "    <tr>\n",
       "      <th>7</th>\n",
       "      <td>0018641a-bac9-11e8-b2b8-ac1f6b6435d0</td>\n",
       "      <td>0 6</td>\n",
       "    </tr>\n",
       "    <tr>\n",
       "      <th>8</th>\n",
       "      <td>00200f22-bad7-11e8-b2b9-ac1f6b6435d0</td>\n",
       "      <td>0</td>\n",
       "    </tr>\n",
       "    <tr>\n",
       "      <th>9</th>\n",
       "      <td>0026f154-bac6-11e8-b2b7-ac1f6b6435d0</td>\n",
       "      <td>3 25</td>\n",
       "    </tr>\n",
       "    <tr>\n",
       "      <th>10</th>\n",
       "      <td>002729d2-bace-11e8-b2b8-ac1f6b6435d0</td>\n",
       "      <td>25</td>\n",
       "    </tr>\n",
       "    <tr>\n",
       "      <th>11</th>\n",
       "      <td>002c1a7c-bad4-11e8-b2b8-ac1f6b6435d0</td>\n",
       "      <td>3 5</td>\n",
       "    </tr>\n",
       "    <tr>\n",
       "      <th>12</th>\n",
       "      <td>003170fa-bacd-11e8-b2b8-ac1f6b6435d0</td>\n",
       "      <td>2 25</td>\n",
       "    </tr>\n",
       "    <tr>\n",
       "      <th>13</th>\n",
       "      <td>0031820a-baca-11e8-b2b8-ac1f6b6435d0</td>\n",
       "      <td>7 25</td>\n",
       "    </tr>\n",
       "    <tr>\n",
       "      <th>14</th>\n",
       "      <td>00407c16-bad3-11e8-b2b8-ac1f6b6435d0</td>\n",
       "      <td>25</td>\n",
       "    </tr>\n",
       "    <tr>\n",
       "      <th>15</th>\n",
       "      <td>005ce2ea-bacc-11e8-b2b8-ac1f6b6435d0</td>\n",
       "      <td>4 25</td>\n",
       "    </tr>\n",
       "    <tr>\n",
       "      <th>16</th>\n",
       "      <td>00631ec8-bad9-11e8-b2b9-ac1f6b6435d0</td>\n",
       "      <td>2</td>\n",
       "    </tr>\n",
       "    <tr>\n",
       "      <th>17</th>\n",
       "      <td>00673f64-bad2-11e8-b2b8-ac1f6b6435d0</td>\n",
       "      <td>0 5</td>\n",
       "    </tr>\n",
       "    <tr>\n",
       "      <th>18</th>\n",
       "      <td>0070171c-bad0-11e8-b2b8-ac1f6b6435d0</td>\n",
       "      <td>14</td>\n",
       "    </tr>\n",
       "    <tr>\n",
       "      <th>19</th>\n",
       "      <td>007290b6-bad8-11e8-b2b9-ac1f6b6435d0</td>\n",
       "      <td>0 5</td>\n",
       "    </tr>\n",
       "    <tr>\n",
       "      <th>20</th>\n",
       "      <td>0075ee26-bacb-11e8-b2b8-ac1f6b6435d0</td>\n",
       "      <td>6</td>\n",
       "    </tr>\n",
       "    <tr>\n",
       "      <th>21</th>\n",
       "      <td>00763d66-bacd-11e8-b2b8-ac1f6b6435d0</td>\n",
       "      <td></td>\n",
       "    </tr>\n",
       "    <tr>\n",
       "      <th>22</th>\n",
       "      <td>007eca68-bac7-11e8-b2b7-ac1f6b6435d0</td>\n",
       "      <td>0 2 11 21 25</td>\n",
       "    </tr>\n",
       "    <tr>\n",
       "      <th>23</th>\n",
       "      <td>008ab0b8-bad5-11e8-b2b8-ac1f6b6435d0</td>\n",
       "      <td>21</td>\n",
       "    </tr>\n",
       "    <tr>\n",
       "      <th>24</th>\n",
       "      <td>008e8c3e-bad4-11e8-b2b8-ac1f6b6435d0</td>\n",
       "      <td>0</td>\n",
       "    </tr>\n",
       "    <tr>\n",
       "      <th>25</th>\n",
       "      <td>009131e6-baca-11e8-b2b8-ac1f6b6435d0</td>\n",
       "      <td>11 12 23 25</td>\n",
       "    </tr>\n",
       "    <tr>\n",
       "      <th>26</th>\n",
       "      <td>0094159e-bad1-11e8-b2b8-ac1f6b6435d0</td>\n",
       "      <td>0</td>\n",
       "    </tr>\n",
       "    <tr>\n",
       "      <th>27</th>\n",
       "      <td>0097a5c2-bac9-11e8-b2b8-ac1f6b6435d0</td>\n",
       "      <td>0</td>\n",
       "    </tr>\n",
       "    <tr>\n",
       "      <th>28</th>\n",
       "      <td>009d32e4-bad3-11e8-b2b8-ac1f6b6435d0</td>\n",
       "      <td>0 25</td>\n",
       "    </tr>\n",
       "    <tr>\n",
       "      <th>29</th>\n",
       "      <td>00a4925a-bad8-11e8-b2b9-ac1f6b6435d0</td>\n",
       "      <td>0</td>\n",
       "    </tr>\n",
       "    <tr>\n",
       "      <th>...</th>\n",
       "      <td>...</td>\n",
       "      <td>...</td>\n",
       "    </tr>\n",
       "    <tr>\n",
       "      <th>11672</th>\n",
       "      <td>ff2cd716-bad7-11e8-b2b9-ac1f6b6435d0</td>\n",
       "      <td>5</td>\n",
       "    </tr>\n",
       "    <tr>\n",
       "      <th>11673</th>\n",
       "      <td>ff2d3abc-bad7-11e8-b2b9-ac1f6b6435d0</td>\n",
       "      <td>0 22 25</td>\n",
       "    </tr>\n",
       "    <tr>\n",
       "      <th>11674</th>\n",
       "      <td>ff38cec0-bad4-11e8-b2b8-ac1f6b6435d0</td>\n",
       "      <td>2</td>\n",
       "    </tr>\n",
       "    <tr>\n",
       "      <th>11675</th>\n",
       "      <td>ff489096-bad7-11e8-b2b9-ac1f6b6435d0</td>\n",
       "      <td>25</td>\n",
       "    </tr>\n",
       "    <tr>\n",
       "      <th>11676</th>\n",
       "      <td>ff49d834-bad2-11e8-b2b8-ac1f6b6435d0</td>\n",
       "      <td>2</td>\n",
       "    </tr>\n",
       "    <tr>\n",
       "      <th>11677</th>\n",
       "      <td>ff4aa9a4-bac7-11e8-b2b7-ac1f6b6435d0</td>\n",
       "      <td>21</td>\n",
       "    </tr>\n",
       "    <tr>\n",
       "      <th>11678</th>\n",
       "      <td>ff5464dc-baca-11e8-b2b8-ac1f6b6435d0</td>\n",
       "      <td></td>\n",
       "    </tr>\n",
       "    <tr>\n",
       "      <th>11679</th>\n",
       "      <td>ff56b30a-bace-11e8-b2b8-ac1f6b6435d0</td>\n",
       "      <td>0 1 2 25</td>\n",
       "    </tr>\n",
       "    <tr>\n",
       "      <th>11680</th>\n",
       "      <td>ff581dac-bac5-11e8-b2b7-ac1f6b6435d0</td>\n",
       "      <td>19</td>\n",
       "    </tr>\n",
       "    <tr>\n",
       "      <th>11681</th>\n",
       "      <td>ff5ee18c-baca-11e8-b2b8-ac1f6b6435d0</td>\n",
       "      <td>0 25</td>\n",
       "    </tr>\n",
       "    <tr>\n",
       "      <th>11682</th>\n",
       "      <td>ff67db02-baca-11e8-b2b8-ac1f6b6435d0</td>\n",
       "      <td>0</td>\n",
       "    </tr>\n",
       "    <tr>\n",
       "      <th>11683</th>\n",
       "      <td>ff7cc20c-bad3-11e8-b2b8-ac1f6b6435d0</td>\n",
       "      <td>25</td>\n",
       "    </tr>\n",
       "    <tr>\n",
       "      <th>11684</th>\n",
       "      <td>ff7dc452-bad5-11e8-b2b9-ac1f6b6435d0</td>\n",
       "      <td>0 1 2</td>\n",
       "    </tr>\n",
       "    <tr>\n",
       "      <th>11685</th>\n",
       "      <td>ff8346fa-bad7-11e8-b2b9-ac1f6b6435d0</td>\n",
       "      <td>11</td>\n",
       "    </tr>\n",
       "    <tr>\n",
       "      <th>11686</th>\n",
       "      <td>ff8e580c-bad1-11e8-b2b8-ac1f6b6435d0</td>\n",
       "      <td>5 25</td>\n",
       "    </tr>\n",
       "    <tr>\n",
       "      <th>11687</th>\n",
       "      <td>ff9659a0-bacf-11e8-b2b8-ac1f6b6435d0</td>\n",
       "      <td>0 21</td>\n",
       "    </tr>\n",
       "    <tr>\n",
       "      <th>11688</th>\n",
       "      <td>ff9bdfd8-baca-11e8-b2b8-ac1f6b6435d0</td>\n",
       "      <td>21 25</td>\n",
       "    </tr>\n",
       "    <tr>\n",
       "      <th>11689</th>\n",
       "      <td>ff9ccd2a-bad0-11e8-b2b8-ac1f6b6435d0</td>\n",
       "      <td>21</td>\n",
       "    </tr>\n",
       "    <tr>\n",
       "      <th>11690</th>\n",
       "      <td>ffa6bc7e-bad3-11e8-b2b8-ac1f6b6435d0</td>\n",
       "      <td>7 25</td>\n",
       "    </tr>\n",
       "    <tr>\n",
       "      <th>11691</th>\n",
       "      <td>ffad96dc-bad5-11e8-b2b9-ac1f6b6435d0</td>\n",
       "      <td></td>\n",
       "    </tr>\n",
       "    <tr>\n",
       "      <th>11692</th>\n",
       "      <td>ffb91448-bac7-11e8-b2b7-ac1f6b6435d0</td>\n",
       "      <td>0 5 7 25</td>\n",
       "    </tr>\n",
       "    <tr>\n",
       "      <th>11693</th>\n",
       "      <td>ffd677a0-bada-11e8-b2b9-ac1f6b6435d0</td>\n",
       "      <td>0 1 3</td>\n",
       "    </tr>\n",
       "    <tr>\n",
       "      <th>11694</th>\n",
       "      <td>ffd72db2-bad5-11e8-b2b9-ac1f6b6435d0</td>\n",
       "      <td>18 19</td>\n",
       "    </tr>\n",
       "    <tr>\n",
       "      <th>11695</th>\n",
       "      <td>ffd83fa4-bacb-11e8-b2b8-ac1f6b6435d0</td>\n",
       "      <td>0 14</td>\n",
       "    </tr>\n",
       "    <tr>\n",
       "      <th>11696</th>\n",
       "      <td>ffd91122-bad0-11e8-b2b8-ac1f6b6435d0</td>\n",
       "      <td>0 11 22</td>\n",
       "    </tr>\n",
       "    <tr>\n",
       "      <th>11697</th>\n",
       "      <td>ffdfb96a-bad4-11e8-b2b8-ac1f6b6435d0</td>\n",
       "      <td>11</td>\n",
       "    </tr>\n",
       "    <tr>\n",
       "      <th>11698</th>\n",
       "      <td>ffdfc590-bad4-11e8-b2b8-ac1f6b6435d0</td>\n",
       "      <td>0 5</td>\n",
       "    </tr>\n",
       "    <tr>\n",
       "      <th>11699</th>\n",
       "      <td>ffecb8a4-bad4-11e8-b2b8-ac1f6b6435d0</td>\n",
       "      <td>7 23</td>\n",
       "    </tr>\n",
       "    <tr>\n",
       "      <th>11700</th>\n",
       "      <td>fff03816-bad5-11e8-b2b9-ac1f6b6435d0</td>\n",
       "      <td>0 1</td>\n",
       "    </tr>\n",
       "    <tr>\n",
       "      <th>11701</th>\n",
       "      <td>fffe6f9c-bacd-11e8-b2b8-ac1f6b6435d0</td>\n",
       "      <td>0 25</td>\n",
       "    </tr>\n",
       "  </tbody>\n",
       "</table>\n",
       "<p>11702 rows × 2 columns</p>\n",
       "</div>"
      ],
      "text/plain": [
       "                                         Id     Predicted\n",
       "0      00008af0-bad0-11e8-b2b8-ac1f6b6435d0             2\n",
       "1      0000a892-bacf-11e8-b2b8-ac1f6b6435d0             5\n",
       "2      0006faa6-bac7-11e8-b2b7-ac1f6b6435d0        0 5 25\n",
       "3      0008baca-bad7-11e8-b2b9-ac1f6b6435d0          0 25\n",
       "4      000cce7e-bad4-11e8-b2b8-ac1f6b6435d0            25\n",
       "5      00109f6a-bac8-11e8-b2b7-ac1f6b6435d0             4\n",
       "6      001765de-bacd-11e8-b2b8-ac1f6b6435d0        0 4 25\n",
       "7      0018641a-bac9-11e8-b2b8-ac1f6b6435d0           0 6\n",
       "8      00200f22-bad7-11e8-b2b9-ac1f6b6435d0             0\n",
       "9      0026f154-bac6-11e8-b2b7-ac1f6b6435d0          3 25\n",
       "10     002729d2-bace-11e8-b2b8-ac1f6b6435d0            25\n",
       "11     002c1a7c-bad4-11e8-b2b8-ac1f6b6435d0           3 5\n",
       "12     003170fa-bacd-11e8-b2b8-ac1f6b6435d0          2 25\n",
       "13     0031820a-baca-11e8-b2b8-ac1f6b6435d0          7 25\n",
       "14     00407c16-bad3-11e8-b2b8-ac1f6b6435d0            25\n",
       "15     005ce2ea-bacc-11e8-b2b8-ac1f6b6435d0          4 25\n",
       "16     00631ec8-bad9-11e8-b2b9-ac1f6b6435d0             2\n",
       "17     00673f64-bad2-11e8-b2b8-ac1f6b6435d0           0 5\n",
       "18     0070171c-bad0-11e8-b2b8-ac1f6b6435d0            14\n",
       "19     007290b6-bad8-11e8-b2b9-ac1f6b6435d0           0 5\n",
       "20     0075ee26-bacb-11e8-b2b8-ac1f6b6435d0             6\n",
       "21     00763d66-bacd-11e8-b2b8-ac1f6b6435d0              \n",
       "22     007eca68-bac7-11e8-b2b7-ac1f6b6435d0  0 2 11 21 25\n",
       "23     008ab0b8-bad5-11e8-b2b8-ac1f6b6435d0            21\n",
       "24     008e8c3e-bad4-11e8-b2b8-ac1f6b6435d0             0\n",
       "25     009131e6-baca-11e8-b2b8-ac1f6b6435d0   11 12 23 25\n",
       "26     0094159e-bad1-11e8-b2b8-ac1f6b6435d0             0\n",
       "27     0097a5c2-bac9-11e8-b2b8-ac1f6b6435d0             0\n",
       "28     009d32e4-bad3-11e8-b2b8-ac1f6b6435d0          0 25\n",
       "29     00a4925a-bad8-11e8-b2b9-ac1f6b6435d0             0\n",
       "...                                     ...           ...\n",
       "11672  ff2cd716-bad7-11e8-b2b9-ac1f6b6435d0             5\n",
       "11673  ff2d3abc-bad7-11e8-b2b9-ac1f6b6435d0       0 22 25\n",
       "11674  ff38cec0-bad4-11e8-b2b8-ac1f6b6435d0             2\n",
       "11675  ff489096-bad7-11e8-b2b9-ac1f6b6435d0            25\n",
       "11676  ff49d834-bad2-11e8-b2b8-ac1f6b6435d0             2\n",
       "11677  ff4aa9a4-bac7-11e8-b2b7-ac1f6b6435d0            21\n",
       "11678  ff5464dc-baca-11e8-b2b8-ac1f6b6435d0              \n",
       "11679  ff56b30a-bace-11e8-b2b8-ac1f6b6435d0      0 1 2 25\n",
       "11680  ff581dac-bac5-11e8-b2b7-ac1f6b6435d0            19\n",
       "11681  ff5ee18c-baca-11e8-b2b8-ac1f6b6435d0          0 25\n",
       "11682  ff67db02-baca-11e8-b2b8-ac1f6b6435d0             0\n",
       "11683  ff7cc20c-bad3-11e8-b2b8-ac1f6b6435d0            25\n",
       "11684  ff7dc452-bad5-11e8-b2b9-ac1f6b6435d0         0 1 2\n",
       "11685  ff8346fa-bad7-11e8-b2b9-ac1f6b6435d0            11\n",
       "11686  ff8e580c-bad1-11e8-b2b8-ac1f6b6435d0          5 25\n",
       "11687  ff9659a0-bacf-11e8-b2b8-ac1f6b6435d0          0 21\n",
       "11688  ff9bdfd8-baca-11e8-b2b8-ac1f6b6435d0         21 25\n",
       "11689  ff9ccd2a-bad0-11e8-b2b8-ac1f6b6435d0            21\n",
       "11690  ffa6bc7e-bad3-11e8-b2b8-ac1f6b6435d0          7 25\n",
       "11691  ffad96dc-bad5-11e8-b2b9-ac1f6b6435d0              \n",
       "11692  ffb91448-bac7-11e8-b2b7-ac1f6b6435d0      0 5 7 25\n",
       "11693  ffd677a0-bada-11e8-b2b9-ac1f6b6435d0         0 1 3\n",
       "11694  ffd72db2-bad5-11e8-b2b9-ac1f6b6435d0         18 19\n",
       "11695  ffd83fa4-bacb-11e8-b2b8-ac1f6b6435d0          0 14\n",
       "11696  ffd91122-bad0-11e8-b2b8-ac1f6b6435d0       0 11 22\n",
       "11697  ffdfb96a-bad4-11e8-b2b8-ac1f6b6435d0            11\n",
       "11698  ffdfc590-bad4-11e8-b2b8-ac1f6b6435d0           0 5\n",
       "11699  ffecb8a4-bad4-11e8-b2b8-ac1f6b6435d0          7 23\n",
       "11700  fff03816-bad5-11e8-b2b9-ac1f6b6435d0           0 1\n",
       "11701  fffe6f9c-bacd-11e8-b2b8-ac1f6b6435d0          0 25\n",
       "\n",
       "[11702 rows x 2 columns]"
      ]
     },
     "execution_count": 19,
     "metadata": {},
     "output_type": "execute_result"
    }
   ],
   "source": [
    "submission_filepath = 'submission.csv'\n",
    "th=ths+0.2\n",
    "submission = pd.read_csv('~/.kaggle/competitions/human-protein-atlas-image-classification/sample_submission.csv')\n",
    "\n",
    "# submission_local = [ {'Id': Id, 'Predicted': ' '.join( map(str, np.where( p > th )[0]) if len(np.where( p > th )[0])>0 else  map(str, [p.argmax()] ) ) }  for (Id, p) in zip( iDs,P) ] \n",
    "submission_local = [ {'Id': Id, 'Predicted': ' '.join( map(str, np.where( p > th )[0]) ) }  for (Id, p) in zip( iDs,P) ]\n",
    "submission_local = pd.DataFrame( submission_local )\n",
    "submission.loc[ submission['Id'] == submission_local['Id'] , 'Predicted'] = submission_local['Predicted']\n",
    "submission.to_csv(submission_filepath, index=False, encoding='utf-8')\n",
    "submission"
   ]
  },
  {
   "cell_type": "code",
   "execution_count": 20,
   "metadata": {},
   "outputs": [
    {
     "name": "stdout",
     "output_type": "stream",
     "text": [
      "100%|█████████████████████████████████████████| 476k/476k [00:01<00:00, 378kB/s]\n",
      "Successfully submitted to Human Protein Atlas Image Classification"
     ]
    }
   ],
   "source": [
    "!kaggle competitions submit -c human-protein-atlas-image-classification -f submission.csv -m \"tta-resnet18+50+se_resnet+512x512+mix+extern+ths02\""
   ]
  },
  {
   "cell_type": "code",
   "execution_count": null,
   "metadata": {},
   "outputs": [],
   "source": []
  },
  {
   "cell_type": "code",
   "execution_count": 25,
   "metadata": {},
   "outputs": [],
   "source": [
    "submission_best = pd.read_csv('submission_lb56.csv')"
   ]
  },
  {
   "cell_type": "code",
   "execution_count": 19,
   "metadata": {},
   "outputs": [
    {
     "name": "stdout",
     "output_type": "stream",
     "text": [
      "11702\n",
      "11702\n",
      "0\n"
     ]
    }
   ],
   "source": [
    "P_best = submission_best['Predicted']\n",
    "P_cur  = submission['Predicted']\n",
    "print( len(P_best) )\n",
    "print( len(P_cur) )\n",
    "\n",
    "s = 0\n",
    "for i in range(len(P_best)):  \n",
    "    \n",
    "    #print( P_best[i]  )\n",
    "    if  P_best[i] != P_best[i] or  P_cur[i]=='': \n",
    "        #print('C: ',P_cur[i])\n",
    "        continue\n",
    "    \n",
    "    p1 = np.array((P_best[i].split(\" \"))).astype(np.int)\n",
    "    #print('p1', p1)\n",
    "    p2 = np.array((P_cur[i].split(\" \"))).astype(np.int)              \n",
    "    #print('p2',p2)          \n",
    "    \n",
    "    if len(p1) != len(p2):\n",
    "        s+=  np.abs(len(p1) - len(p2))\n",
    "        #print(p1, p2)\n",
    "    else:\n",
    "        s+=  np.abs(p1-p2).sum()\n",
    "#         if np.abs(p1-p2).sum() != 0:\n",
    "#             print(p1, p2)\n",
    "\n",
    "print(s)\n"
   ]
  },
  {
   "cell_type": "code",
   "execution_count": 60,
   "metadata": {},
   "outputs": [
    {
     "data": {
      "image/png": "[encoded data removed]",
      "text/plain": [
       "<Figure size 432x288 with 1 Axes>"
      ]
     },
     "metadata": {},
     "output_type": "display_data"
    },
    {
     "data": {
      "image/png": "[encoded data removed]",
      "text/plain": [
       "<Figure size 432x288 with 1 Axes>"
      ]
     },
     "metadata": {},
     "output_type": "display_data"
    },
    {
     "data": {
      "image/png": "[encoded data removed]",
      "text/plain": [
       "<Figure size 432x288 with 1 Axes>"
      ]
     },
     "metadata": {},
     "output_type": "display_data"
    }
   ],
   "source": [
    "def toonehot( x ):\n",
    "    y = np.zeros( (len(x),28) )\n",
    "    for i in range( len(x) ):\n",
    "        if  x[i] != x[i] or x[i]=='':\n",
    "            continue\n",
    "        y[ i, np.array((x[i].split(\" \"))).astype(np.int) ] = 1\n",
    "    return y\n",
    "\n",
    "plt.figure()\n",
    "plt.hist(toonehot(P_best).sum(axis=0) ) \n",
    "plt.show()\n",
    "\n",
    "plt.figure()\n",
    "plt.hist(toonehot(P_cur).sum(axis=0) ) \n",
    "plt.show()\n",
    "\n",
    "plt.figure()\n",
    "plt.hist((toonehot(P_best)-toonehot(P_cur)).sum(axis=0) ) \n",
    "plt.show()\n"
   ]
  }
 ],
 "metadata": {
  "kernelspec": {
   "display_name": "Python 3",
   "language": "python",
   "name": "python3"
  },
  "language_info": {
   "codemirror_mode": {
    "name": "ipython",
    "version": 3
   },
   "file_extension": ".py",
   "mimetype": "text/x-python",
   "name": "python",
   "nbconvert_exporter": "python",
   "pygments_lexer": "ipython3",
   "version": "3.6.6"
  }
 },
 "nbformat": 4,
 "nbformat_minor": 2
}
